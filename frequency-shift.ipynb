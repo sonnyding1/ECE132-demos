{
 "cells": [
  {
   "cell_type": "markdown",
   "metadata": {},
   "source": [
    "# Frequency shift"
   ]
  },
  {
   "cell_type": "code",
   "execution_count": null,
   "metadata": {},
   "outputs": [],
   "source": [
    "# imports\n",
    "import numpy as np\n",
    "import matplotlib.pyplot as plt\n",
    "from scipy.fft import fft, fftshift, ifftshift"
   ]
  },
  {
   "cell_type": "code",
   "execution_count": null,
   "metadata": {},
   "outputs": [],
   "source": [
    "# Time domain parameters\n",
    "T = 1.0  # duration\n",
    "fs = 500  # sample rate\n",
    "t = np.linspace(0.0, T, int(T * fs), endpoint=False)\n",
    "\n",
    "# Frequency domain parameters\n",
    "f0 = 5  # frequency of the cosine wave\n",
    "x = np.cos(2.0 * np.pi * f0 * t)"
   ]
  },
  {
   "cell_type": "code",
   "execution_count": null,
   "metadata": {},
   "outputs": [],
   "source": [
    "# Compute the FFT\n",
    "X = fft(x)\n",
    "f = np.linspace(0.0, fs, int(T * fs), endpoint=False)\n",
    "\n",
    "# Frequency shift\n",
    "shift = 50  # frequency shift\n",
    "X_shifted = fftshift(X)\n",
    "f_shifted = f - fs / 2 + shift"
   ]
  },
  {
   "cell_type": "code",
   "execution_count": null,
   "metadata": {},
   "outputs": [],
   "source": [
    "# Plotting\n",
    "plt.figure(figsize=(12, 8))\n",
    "\n",
    "# Time domain\n",
    "plt.subplot(3, 1, 1)\n",
    "plt.plot(t, x)\n",
    "plt.title(\"Time Domain\")\n",
    "plt.xlabel(\"Time [s]\")\n",
    "plt.ylabel(\"Amplitude\")\n",
    "\n",
    "# Frequency domain\n",
    "plt.subplot(3, 1, 2)\n",
    "plt.plot(f, np.abs(X) / fs)\n",
    "plt.title(\"Frequency Domain\")\n",
    "plt.xlabel(\"Frequency [Hz]\")\n",
    "plt.ylabel(\"Magnitude\")\n",
    "\n",
    "# Frequency domain after shift\n",
    "plt.subplot(3, 1, 3)\n",
    "plt.plot(f_shifted, np.abs(X_shifted) / fs)\n",
    "plt.title(\"Frequency Domain after Shift\")\n",
    "plt.xlabel(\"Frequency [Hz]\")\n",
    "plt.ylabel(\"Magnitude\")\n",
    "\n",
    "plt.tight_layout()\n",
    "plt.show()"
   ]
  }
 ],
 "metadata": {
  "kernelspec": {
   "display_name": "myenv",
   "language": "python",
   "name": "python3"
  },
  "language_info": {
   "codemirror_mode": {
    "name": "ipython",
    "version": 3
   },
   "file_extension": ".py",
   "mimetype": "text/x-python",
   "name": "python",
   "nbconvert_exporter": "python",
   "pygments_lexer": "ipython3",
   "version": "3.11.0"
  }
 },
 "nbformat": 4,
 "nbformat_minor": 2
}
