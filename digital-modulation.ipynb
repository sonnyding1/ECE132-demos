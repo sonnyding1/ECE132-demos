{
 "cells": [
  {
   "cell_type": "markdown",
   "metadata": {},
   "source": [
    "# Digital modulation"
   ]
  },
  {
   "cell_type": "code",
   "execution_count": null,
   "metadata": {},
   "outputs": [],
   "source": [
    "# imports\n",
    "import numpy as np\n",
    "import matplotlib.pyplot as plt\n",
    "from scipy.fft import fft, fftfreq"
   ]
  },
  {
   "cell_type": "markdown",
   "metadata": {},
   "source": [
    "The procedure of converting digital data into analog signal is as follows:\n",
    "\n",
    "1. Digital data. An example is [0, 1, 0, 1, 1].\n",
    "2. Mapping. For example, [-1, 1, -1, 1, 1].\n",
    "3. Each symbol is modulated to a waveform, in this case, sinc function.\n",
    "4. The modulated signals are summed up."
   ]
  },
  {
   "cell_type": "code",
   "execution_count": null,
   "metadata": {},
   "outputs": [],
   "source": [
    "def map_data(arr):\n",
    "    \"\"\"Maps binary data 0 -> -1, 1 -> 1\n",
    "    \"\"\"\n",
    "    return np.where(arr == 0, -1, 1)\n",
    "\n",
    "def sinc_list(arr, t):\n",
    "    \"\"\"Generates a list of sincs from input digital data\n",
    "    \"\"\"\n",
    "    y = []\n",
    "    for i in range(len(arr)):\n",
    "        y.append(arr[i] * np.sinc(t-i))\n",
    "    return y\n",
    "    \n",
    "\n",
    "def sum_of_sinc(arr, t):\n",
    "    y = np.zeros_like(t)\n",
    "    for i in range(len(arr)):\n",
    "        y += arr[i] * np.sinc(t-i)\n",
    "    return y"
   ]
  },
  {
   "cell_type": "code",
   "execution_count": null,
   "metadata": {},
   "outputs": [],
   "source": [
    "digital_data = np.array([0, 1, 0, 1, 1])\n",
    "mapped_data = map_data(digital_data)\n",
    "\n",
    "t = np.linspace(-10, 10, 500)\n",
    "sincs = sinc_list(mapped_data, t)\n",
    "y = sum_of_sinc(mapped_data, t)\n",
    "\n",
    "yf = fft(y)\n",
    "xf = fftfreq(len(t), np.mean(np.diff(t)))\n",
    "\n",
    "plt.figure(figsize=(12, 12))\n",
    "# plot each individual sinc function\n",
    "plt.subplot(3, 1, 1)\n",
    "for i in range(len(sincs)):\n",
    "    plt.plot(t, sincs[i])\n",
    "plt.stem(mapped_data, linefmt=\"black\", basefmt=\" \")\n",
    "plt.title(\"Time Domain Signal\")\n",
    "plt.xlabel(\"Time\")\n",
    "plt.ylabel(\"Amplitude\")\n",
    "plt.xticks(np.arange(min(t), max(t)+1, 1))\n",
    "plt.yticks(np.arange(-1, 2, 1))\n",
    "plt.grid(True)\n",
    "# plot sum of sinc in time domain\n",
    "plt.subplot(3, 1, 2)\n",
    "plt.plot(t, y)\n",
    "plt.stem(mapped_data, linefmt=\"black\", basefmt=\" \")\n",
    "plt.title(\"Time Domain Signal\")\n",
    "plt.xlabel(\"Time\")\n",
    "plt.ylabel(\"Amplitude\")\n",
    "plt.xticks(np.arange(min(t), max(t) + 1, 1))\n",
    "plt.yticks(np.arange(-1, 2, 1))\n",
    "plt.grid(True)\n",
    "# plot frequency domain\n",
    "plt.subplot(3, 1, 3)\n",
    "plt.plot(xf, np.abs(yf))\n",
    "plt.title(\"Frequency Domain Signal\")\n",
    "plt.xlabel(\"Frequency\")\n",
    "plt.ylabel(\"Magnitude\")\n",
    "plt.grid(True)\n",
    "\n",
    "plt.subplots_adjust(hspace=0.5)\n",
    "plt.show()"
   ]
  },
  {
   "cell_type": "code",
   "execution_count": null,
   "metadata": {},
   "outputs": [],
   "source": []
  }
 ],
 "metadata": {
  "kernelspec": {
   "display_name": "myenv",
   "language": "python",
   "name": "python3"
  },
  "language_info": {
   "codemirror_mode": {
    "name": "ipython",
    "version": 3
   },
   "file_extension": ".py",
   "mimetype": "text/x-python",
   "name": "python",
   "nbconvert_exporter": "python",
   "pygments_lexer": "ipython3",
   "version": "3.11.0"
  }
 },
 "nbformat": 4,
 "nbformat_minor": 2
}
